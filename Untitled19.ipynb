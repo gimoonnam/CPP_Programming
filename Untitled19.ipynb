{
  "nbformat": 4,
  "nbformat_minor": 0,
  "metadata": {
    "colab": {
      "name": "Untitled19.ipynb",
      "version": "0.3.2",
      "provenance": [],
      "collapsed_sections": [],
      "include_colab_link": true
    },
    "kernelspec": {
      "name": "python3",
      "display_name": "Python 3"
    }
  },
  "cells": [
    {
      "cell_type": "markdown",
      "metadata": {
        "id": "view-in-github",
        "colab_type": "text"
      },
      "source": [
        "<a href=\"https://colab.research.google.com/github/gimoonnam/CPP_Programming/blob/master/Untitled19.ipynb\" target=\"_parent\"><img src=\"https://colab.research.google.com/assets/colab-badge.svg\" alt=\"Open In Colab\"/></a>"
      ]
    },
    {
      "cell_type": "markdown",
      "metadata": {
        "id": "uz_ZKIWj6XUe",
        "colab_type": "text"
      },
      "source": [
        "https://www.geeksforgeeks.org/decision-tree-implementation-python/\n"
      ]
    },
    {
      "cell_type": "code",
      "metadata": {
        "id": "tjnuHq053K6K",
        "colab_type": "code",
        "colab": {}
      },
      "source": [
        "import numpy as np\n",
        "import pandas as pd"
      ],
      "execution_count": 0,
      "outputs": []
    },
    {
      "cell_type": "code",
      "metadata": {
        "id": "zKWnRWDY3PsQ",
        "colab_type": "code",
        "colab": {}
      },
      "source": [
        "from sklearn.metrics import confusion_matrix \n",
        "from sklearn.tree import DecisionTreeClassifier \n",
        "from sklearn.metrics import accuracy_score \n",
        "from sklearn.metrics import classification_report \n",
        "from sklearn.model_selection import train_test_split"
      ],
      "execution_count": 0,
      "outputs": []
    },
    {
      "cell_type": "code",
      "metadata": {
        "id": "uceUeCEx3X1G",
        "colab_type": "code",
        "colab": {}
      },
      "source": [
        "def importdata():\n",
        "  balance_data = pd.read_csv(\n",
        "      'https://archive.ics.uci.edu/ml/machine-learning-databases/balance-scale/balance-scale.data',\n",
        "      sep=',',header=None) \n",
        "  # Printing the dataswet shape \n",
        "  print (\"Dataset Lenght: \", len(balance_data)) \n",
        "  print (\"Dataset Shape: \", balance_data.shape) \n",
        "      \n",
        "  # Printing the dataset obseravtions \n",
        "  # print (\"Dataset: \",balance_data.head()) \n",
        "  return balance_data \n",
        "    "
      ],
      "execution_count": 0,
      "outputs": []
    },
    {
      "cell_type": "code",
      "metadata": {
        "id": "fYQ822cf5JU7",
        "colab_type": "code",
        "colab": {}
      },
      "source": [
        "def splitdataset(balanced_data):\n",
        "  X = balanced_data.values[:,1:5]  # attributes\n",
        "  Y = balanced_data.values[:,0]    # target variable \n",
        "  \n",
        "  X_train, X_test, y_train, y_test = train_test_split(X,Y,test_size=0.3, random_state = 100)\n",
        "  \n",
        "  return X, Y, X_train, X_test, y_train, y_test "
      ],
      "execution_count": 0,
      "outputs": []
    },
    {
      "cell_type": "code",
      "metadata": {
        "id": "YAZYDYZz3sAy",
        "colab_type": "code",
        "colab": {}
      },
      "source": [
        "def main():\n",
        "  data = importdata() \n",
        "  \n",
        "  \n",
        "  X, Y, X_train, X_test, y_train, y_test = splitdataset(data)\n",
        "  print(X)\n",
        "  #print(Y)\n",
        "    "
      ],
      "execution_count": 0,
      "outputs": []
    },
    {
      "cell_type": "code",
      "metadata": {
        "id": "f8w0tJdZ4VrF",
        "colab_type": "code",
        "colab": {
          "base_uri": "https://localhost:8080/",
          "height": 173
        },
        "outputId": "f6981e5a-8d95-4ceb-b405-6fd4bcceea82"
      },
      "source": [
        "if __name__==\"__main__\":\n",
        "  main()"
      ],
      "execution_count": 51,
      "outputs": [
        {
          "output_type": "stream",
          "text": [
            "Dataset Lenght:  625\n",
            "Dataset Shape:  (625, 5)\n",
            "[[1 1 1 1]\n",
            " [1 1 1 2]\n",
            " [1 1 1 3]\n",
            " ...\n",
            " [5 5 5 3]\n",
            " [5 5 5 4]\n",
            " [5 5 5 5]]\n"
          ],
          "name": "stdout"
        }
      ]
    },
    {
      "cell_type": "code",
      "metadata": {
        "id": "1vrNrWYH4Y7C",
        "colab_type": "code",
        "colab": {}
      },
      "source": [
        "\n"
      ],
      "execution_count": 0,
      "outputs": []
    }
  ]
}